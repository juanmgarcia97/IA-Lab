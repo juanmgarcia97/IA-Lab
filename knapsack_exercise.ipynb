{
  "cells": [
    {
      "cell_type": "markdown",
      "metadata": {
        "id": "Z77R-epE0yaH",
        "colab_type": "text"
      },
      "source": [
        "# Knapsack problem\n",
        "\n",
        "Given a list of items and a bag maximum capacity, find the best combination of items.\n",
        "```\n",
        "Integrante 1: <Jorge Calambas>\n",
        "Integrante 2: <Juan Martin Garcia>\n",
        "```\n",
        "The algorithm to complete:"
      ]
    },
    {
      "cell_type": "code",
      "metadata": {
        "id": "Iqigakkn0hXE",
        "colab_type": "code",
        "colab": {}
      },
      "source": [
        "import random\n",
        "import math\n",
        "import numpy as np\n",
        "\n",
        "class KnapsackGenetic:\n",
        "  def __init__(self, params):\n",
        "    self.ALL_NUMBERS = list(range(params[\"max_per_item\"] + 1))\n",
        "    self.params = params\n",
        "    self.specimen = [None] * self.params[\"generation_size\"]\n",
        "\n",
        "    self.create_initial_population()\n",
        "\n",
        "  def create_initial_population(self):\n",
        "    self.specimen = list(map(\n",
        "        lambda _: list(map(\n",
        "            lambda _: random.choice(self.ALL_NUMBERS),\n",
        "            [None] * len(self.params[\"items\"])\n",
        "        )),\n",
        "        self.specimen\n",
        "    ))\n",
        "\n",
        "  def fitness(self, specimen):\n",
        "    # Use params: self.params[\"max_weight\"] to check the max weight of the specimen\n",
        "    # Use params: self.params[\"items\"]\n",
        "    a = list(zip(specimen,params[\"items\"]))\n",
        "    if(sum(map(lambda x: x[0]*x[1].weight,a))<= params[\"max_weight\"]):\n",
        "      return sum(map(lambda x: x[0]*x[1].value,a))\n",
        "    return 0\n",
        "\n",
        "  def is_converged(self):\n",
        "    if any(self.fitness(specimen) >= self.params[\"fit_threshold\"] for specimen in self.specimen):\n",
        "      return True\n",
        "\n",
        "    return False\n",
        "\n",
        "  def get_fit(self):\n",
        "    evaluations = self.fitness_all()\n",
        "\n",
        "    max_evaluation = max(evaluations)\n",
        "\n",
        "    max_index = evaluations.index(max_evaluation)\n",
        "\n",
        "    return self.specimen[max_index], max_evaluation\n",
        "\n",
        "  def fitness_all(self):\n",
        "    return list(map(self.fitness, self.specimen))\n",
        "\n",
        "  def select_specimen(self, specimen_evaluations):\n",
        "    specimen_and_evaluations = list(zip(self.specimen, specimen_evaluations))\n",
        "\n",
        "    specimen_and_evaluations.sort(key=lambda e: e[1], reverse = True)\n",
        "\n",
        "    n_top = int(math.ceil(len(self.specimen) * params[\"select_top\"]))\n",
        "\n",
        "    return list(map(lambda s: s[0], specimen_and_evaluations[:n_top]))\n",
        "  \n",
        "  def mutate(self, specimen):\n",
        "    # Use parameter: self.params[\"max_per_item\"] to check maximum for gene\n",
        "    # Use parameter: self.params[\"mutation_percentage\"]\n",
        "    n_digits = int(params[\"mutation_percentage\"] * (len(specimen)))\n",
        "    digit_indexes = random.sample(list(range(len(specimen))), n_digits)\n",
        "    mutated = specimen[:]\n",
        "  \n",
        "    for i in digit_indexes:\n",
        "      mutated[i] = random.choice(self.ALL_NUMBERS)\n",
        "\n",
        "    return mutated\n",
        "\n",
        "  def generate_children(self, selected_specimen):  \n",
        "    mutated_specimen = [None] * len(self.specimen)\n",
        "\n",
        "    for i in range(len(mutated_specimen)):\n",
        "      mutated_specimen[i] = self.mutate(random.choice(selected_specimen))\n",
        "\n",
        "    return mutated_specimen\n",
        "\n",
        "  def run(self):\n",
        "    generation_number = 1\n",
        "\n",
        "    while generation_number <= self.params[\"max_generations\"] and not self.is_converged():\n",
        "      top_generation = self.get_fit()\n",
        "      top_str = \"\".join(str(top_generation[0]))\n",
        "      \n",
        "      print(f\"Generation #{generation_number}:\\t{top_str}\\t{top_generation[1]}\")\n",
        "\n",
        "      specimen_evaluations = self.fitness_all()\n",
        "      selected_specimen = self.select_specimen(specimen_evaluations)\n",
        "      \n",
        "      self.specimen = self.generate_children(selected_specimen)\n",
        "      \n",
        "      generation_number += 1\n",
        "    \n",
        "    return self.get_fit()"
      ],
      "execution_count": 52,
      "outputs": []
    },
    {
      "cell_type": "markdown",
      "metadata": {
        "id": "hnHAziSc1ChK",
        "colab_type": "text"
      },
      "source": [
        "To run the algorithm:"
      ]
    },
    {
      "cell_type": "code",
      "metadata": {
        "id": "_ssF5Z6S1FQ6",
        "colab_type": "code",
        "colab": {
          "base_uri": "https://localhost:8080/",
          "height": 349
        },
        "outputId": "6e48c80f-4ed7-49f3-e872-150e3198fab0",
        "tags": [
          "outputPrepend",
          "outputPrepend",
          "outputPrepend",
          "outputPrepend",
          "outputPrepend"
        ]
      },
      "source": [
        "class Item:\n",
        "  def __init__(self, value, weight):\n",
        "    self.value = value\n",
        "    self.weight = weight\n",
        "\n",
        "params = {\n",
        "    \"mutation_percentage\": 0.3,\n",
        "    \"select_top\": 0.15,\n",
        "    \"generation_size\": 5,\n",
        "    \"fit_threshold\": 100,\n",
        "    \"max_generations\": 50,\n",
        "    \"max_weight\": 15,\n",
        "    \"max_per_item\": 5,\n",
        "    \"items\": [Item(4, 12), Item(2, 2), Item(2, 1), Item(1, 1)]\n",
        "}\n",
        "\n",
        "knapsack = KnapsackGenetic(params)\n",
        "knapsack.run()\n"
      ],
      "execution_count": 60,
      "outputs": [
        {
          "output_type": "stream",
          "name": "stdout",
          "text": "Generation #1:\t[0, 0, 0, 4]\t4\nGeneration #2:\t[0, 5, 0, 4]\t14\nGeneration #3:\t[0, 5, 1, 4]\t16\nGeneration #4:\t[0, 3, 1, 4]\t12\nGeneration #5:\t[0, 3, 3, 4]\t16\nGeneration #6:\t[0, 4, 3, 4]\t18\nGeneration #7:\t[0, 4, 2, 4]\t16\nGeneration #8:\t[0, 4, 2, 4]\t16\nGeneration #9:\t[0, 3, 2, 4]\t14\nGeneration #10:\t[0, 3, 2, 3]\t13\nGeneration #11:\t[0, 3, 4, 3]\t17\nGeneration #12:\t[0, 3, 4, 3]\t17\nGeneration #13:\t[0, 3, 4, 5]\t19\nGeneration #14:\t[0, 3, 4, 3]\t17\nGeneration #15:\t[0, 3, 4, 4]\t18\nGeneration #16:\t[0, 3, 0, 4]\t10\nGeneration #17:\t[0, 3, 5, 4]\t20\nGeneration #18:\t[0, 3, 5, 4]\t20\nGeneration #19:\t[0, 3, 2, 4]\t14\nGeneration #20:\t[0, 4, 2, 4]\t16\nGeneration #21:\t[0, 4, 2, 4]\t16\nGeneration #22:\t[0, 4, 2, 4]\t16\nGeneration #23:\t[0, 4, 2, 5]\t17\nGeneration #24:\t[0, 4, 2, 5]\t17\nGeneration #25:\t[0, 4, 2, 5]\t17\nGeneration #26:\t[0, 4, 2, 5]\t17\nGeneration #27:\t[0, 4, 2, 3]\t15\nGeneration #28:\t[0, 4, 2, 5]\t17\nGeneration #29:\t[0, 4, 2, 5]\t17\nGeneration #30:\t[0, 4, 2, 5]\t17\nGeneration #31:\t[0, 4, 2, 4]\t16\nGeneration #32:\t[0, 4, 2, 5]\t17\nGeneration #33:\t[0, 4, 2, 5]\t17\nGeneration #34:\t[0, 4, 2, 4]\t16\nGeneration #35:\t[0, 4, 3, 4]\t18\nGeneration #36:\t[0, 4, 3, 3]\t17\nGeneration #37:\t[0, 4, 3, 3]\t17\nGeneration #38:\t[0, 4, 4, 3]\t19\nGeneration #39:\t[0, 0, 4, 3]\t11\nGeneration #40:\t[0, 0, 4, 4]\t12\nGeneration #41:\t[0, 0, 4, 4]\t12\nGeneration #42:\t[0, 3, 4, 4]\t18\nGeneration #43:\t[0, 3, 4, 2]\t16\nGeneration #44:\t[0, 3, 5, 2]\t18\nGeneration #45:\t[0, 3, 5, 1]\t17\nGeneration #46:\t[0, 3, 5, 3]\t19\nGeneration #47:\t[0, 3, 5, 3]\t19\nGeneration #48:\t[0, 1, 5, 3]\t15\nGeneration #49:\t[0, 2, 5, 3]\t17\nGeneration #50:\t[0, 2, 5, 3]\t17\n"
        },
        {
          "output_type": "execute_result",
          "data": {
            "text/plain": "([0, 3, 5, 3], 19)"
          },
          "metadata": {},
          "execution_count": 60
        }
      ]
    },
    {
      "cell_type": "code",
      "execution_count": null,
      "metadata": {},
      "outputs": [],
      "source": []
    }
  ],
  "metadata": {
    "colab": {
      "name": "knapsack-exercise.ipynb",
      "provenance": [],
      "collapsed_sections": []
    },
    "kernelspec": {
      "name": "python3",
      "display_name": "Python 3"
    }
  },
  "nbformat": 4,
  "nbformat_minor": 0
}